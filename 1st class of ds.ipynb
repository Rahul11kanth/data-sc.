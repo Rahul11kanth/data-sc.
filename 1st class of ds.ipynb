{
 "cells": [
  {
   "cell_type": "code",
   "execution_count": 1,
   "id": "5fa8002a",
   "metadata": {},
   "outputs": [
    {
     "name": "stdout",
     "output_type": "stream",
     "text": [
      "mofos\n"
     ]
    }
   ],
   "source": [
    "print('mofos')"
   ]
  },
  {
   "cell_type": "code",
   "execution_count": 2,
   "id": "9fc390ed",
   "metadata": {},
   "outputs": [
    {
     "name": "stdout",
     "output_type": "stream",
     "text": [
      "11\n"
     ]
    }
   ],
   "source": [
    "a=5\n",
    "b=6\n",
    "c=a+b\n",
    "print(c)"
   ]
  },
  {
   "cell_type": "code",
   "execution_count": 3,
   "id": "7a75bfa3",
   "metadata": {},
   "outputs": [],
   "source": [
    "deep=10"
   ]
  },
  {
   "cell_type": "code",
   "execution_count": 4,
   "id": "6de8e51f",
   "metadata": {},
   "outputs": [
    {
     "data": {
      "text/plain": [
       "10"
      ]
     },
     "execution_count": 4,
     "metadata": {},
     "output_type": "execute_result"
    }
   ],
   "source": [
    "a"
   ]
  },
  {
   "cell_type": "code",
   "execution_count": 5,
   "id": "5ad66132",
   "metadata": {},
   "outputs": [
    {
     "data": {
      "text/plain": [
       "8"
      ]
     },
     "execution_count": 5,
     "metadata": {},
     "output_type": "execute_result"
    }
   ],
   "source": [
    "a-2"
   ]
  },
  {
   "cell_type": "code",
   "execution_count": 6,
   "id": "1bc399e2",
   "metadata": {},
   "outputs": [
    {
     "data": {
      "text/plain": [
       "10"
      ]
     },
     "execution_count": 6,
     "metadata": {},
     "output_type": "execute_result"
    }
   ],
   "source": [
    "a"
   ]
  },
  {
   "cell_type": "code",
   "execution_count": 7,
   "id": "619b4983",
   "metadata": {},
   "outputs": [
    {
     "ename": "NameError",
     "evalue": "name 'deep' is not defined",
     "output_type": "error",
     "traceback": [
      "\u001b[1;31m---------------------------------------------------------------------------\u001b[0m",
      "\u001b[1;31mNameError\u001b[0m                                 Traceback (most recent call last)",
      "Input \u001b[1;32mIn [7]\u001b[0m, in \u001b[0;36m<cell line: 1>\u001b[1;34m()\u001b[0m\n\u001b[1;32m----> 1\u001b[0m \u001b[43mdeep\u001b[49m\u001b[38;5;241m-\u001b[39m\u001b[38;5;241m2\u001b[39m\n",
      "\u001b[1;31mNameError\u001b[0m: name 'deep' is not defined"
     ]
    }
   ],
   "source": [
    "deep-2"
   ]
  },
  {
   "cell_type": "code",
   "execution_count": 1,
   "id": "286bd1c9",
   "metadata": {},
   "outputs": [
    {
     "ename": "NameError",
     "evalue": "name 'deep' is not defined",
     "output_type": "error",
     "traceback": [
      "\u001b[1;31m---------------------------------------------------------------------------\u001b[0m",
      "\u001b[1;31mNameError\u001b[0m                                 Traceback (most recent call last)",
      "Input \u001b[1;32mIn [1]\u001b[0m, in \u001b[0;36m<cell line: 1>\u001b[1;34m()\u001b[0m\n\u001b[1;32m----> 1\u001b[0m \u001b[43mdeep\u001b[49m\u001b[38;5;241m-\u001b[39m\u001b[38;5;241m2\u001b[39m\n",
      "\u001b[1;31mNameError\u001b[0m: name 'deep' is not defined"
     ]
    }
   ],
   "source": [
    "deep-2"
   ]
  },
  {
   "cell_type": "code",
   "execution_count": 2,
   "id": "6a34f6fd",
   "metadata": {},
   "outputs": [],
   "source": [
    "deep=2"
   ]
  },
  {
   "cell_type": "code",
   "execution_count": 3,
   "id": "58d6023d",
   "metadata": {},
   "outputs": [
    {
     "data": {
      "text/plain": [
       "0"
      ]
     },
     "execution_count": 3,
     "metadata": {},
     "output_type": "execute_result"
    }
   ],
   "source": [
    "deep-2"
   ]
  },
  {
   "cell_type": "code",
   "execution_count": 4,
   "id": "2492c239",
   "metadata": {},
   "outputs": [
    {
     "data": {
      "text/plain": [
       "int"
      ]
     },
     "execution_count": 4,
     "metadata": {},
     "output_type": "execute_result"
    }
   ],
   "source": [
    "type(deep)"
   ]
  },
  {
   "cell_type": "code",
   "execution_count": 5,
   "id": "63fc66cd",
   "metadata": {},
   "outputs": [],
   "source": [
    "c=88.9"
   ]
  },
  {
   "cell_type": "code",
   "execution_count": 6,
   "id": "8ecffb23",
   "metadata": {},
   "outputs": [
    {
     "data": {
      "text/plain": [
       "float"
      ]
     },
     "execution_count": 6,
     "metadata": {},
     "output_type": "execute_result"
    }
   ],
   "source": [
    "type(c)"
   ]
  },
  {
   "cell_type": "code",
   "execution_count": 7,
   "id": "e3b01204",
   "metadata": {},
   "outputs": [],
   "source": [
    "b=\"i am starting to learn the python again\""
   ]
  },
  {
   "cell_type": "code",
   "execution_count": 8,
   "id": "a65d9f97",
   "metadata": {},
   "outputs": [
    {
     "data": {
      "text/plain": [
       "str"
      ]
     },
     "execution_count": 8,
     "metadata": {},
     "output_type": "execute_result"
    }
   ],
   "source": [
    "type(b)"
   ]
  },
  {
   "cell_type": "raw",
   "id": "19e2c038",
   "metadata": {},
   "source": [
    "data which is stored in a single quote or a double quote then it is callled a string"
   ]
  },
  {
   "cell_type": "code",
   "execution_count": 13,
   "id": "77b25d12",
   "metadata": {
    "scrolled": true
   },
   "outputs": [
    {
     "ename": "NameError",
     "evalue": "name 'phalodi' is not defined",
     "output_type": "error",
     "traceback": [
      "\u001b[1;31m---------------------------------------------------------------------------\u001b[0m",
      "\u001b[1;31mNameError\u001b[0m                                 Traceback (most recent call last)",
      "Input \u001b[1;32mIn [13]\u001b[0m, in \u001b[0;36m<cell line: 1>\u001b[1;34m()\u001b[0m\n\u001b[1;32m----> 1\u001b[0m a\u001b[38;5;241m=\u001b[39m\u001b[43mphalodi\u001b[49m\n",
      "\u001b[1;31mNameError\u001b[0m: name 'phalodi' is not defined"
     ]
    }
   ],
   "source": [
    "a=phalodi"
   ]
  },
  {
   "cell_type": "code",
   "execution_count": 10,
   "id": "7ca3e580",
   "metadata": {},
   "outputs": [],
   "source": [
    "a=\"phalodi\""
   ]
  },
  {
   "cell_type": "code",
   "execution_count": 11,
   "id": "95a20a73",
   "metadata": {},
   "outputs": [
    {
     "data": {
      "text/plain": [
       "str"
      ]
     },
     "execution_count": 11,
     "metadata": {},
     "output_type": "execute_result"
    }
   ],
   "source": [
    "type(a)"
   ]
  },
  {
   "cell_type": "code",
   "execution_count": 15,
   "id": "739dcc0b",
   "metadata": {},
   "outputs": [],
   "source": [
    "x = True"
   ]
  },
  {
   "cell_type": "code",
   "execution_count": 16,
   "id": "719ed31c",
   "metadata": {},
   "outputs": [
    {
     "data": {
      "text/plain": [
       "bool"
      ]
     },
     "execution_count": 16,
     "metadata": {},
     "output_type": "execute_result"
    }
   ],
   "source": [
    "type(x)"
   ]
  },
  {
   "cell_type": "code",
   "execution_count": 17,
   "id": "84348a60",
   "metadata": {},
   "outputs": [
    {
     "data": {
      "text/plain": [
       "0"
      ]
     },
     "execution_count": 17,
     "metadata": {},
     "output_type": "execute_result"
    }
   ],
   "source": [
    "True-True"
   ]
  },
  {
   "cell_type": "code",
   "execution_count": 18,
   "id": "d0057655",
   "metadata": {},
   "outputs": [
    {
     "data": {
      "text/plain": [
       "-1"
      ]
     },
     "execution_count": 18,
     "metadata": {},
     "output_type": "execute_result"
    }
   ],
   "source": [
    "False-True"
   ]
  },
  {
   "cell_type": "code",
   "execution_count": 19,
   "id": "ad99271f",
   "metadata": {},
   "outputs": [
    {
     "ename": "ZeroDivisionError",
     "evalue": "division by zero",
     "output_type": "error",
     "traceback": [
      "\u001b[1;31m---------------------------------------------------------------------------\u001b[0m",
      "\u001b[1;31mZeroDivisionError\u001b[0m                         Traceback (most recent call last)",
      "Input \u001b[1;32mIn [19]\u001b[0m, in \u001b[0;36m<cell line: 1>\u001b[1;34m()\u001b[0m\n\u001b[1;32m----> 1\u001b[0m \u001b[38;5;28;43;01mTrue\u001b[39;49;00m\u001b[38;5;241;43m/\u001b[39;49m\u001b[38;5;28;43;01mFalse\u001b[39;49;00m\n",
      "\u001b[1;31mZeroDivisionError\u001b[0m: division by zero"
     ]
    }
   ],
   "source": [
    "True/False"
   ]
  },
  {
   "cell_type": "code",
   "execution_count": 21,
   "id": "7e7ba261",
   "metadata": {},
   "outputs": [],
   "source": [
    "n=5+7j"
   ]
  },
  {
   "cell_type": "code",
   "execution_count": 22,
   "id": "13ab3b21",
   "metadata": {},
   "outputs": [
    {
     "data": {
      "text/plain": [
       "complex"
      ]
     },
     "execution_count": 22,
     "metadata": {},
     "output_type": "execute_result"
    }
   ],
   "source": [
    "type(n)"
   ]
  },
  {
   "cell_type": "code",
   "execution_count": 23,
   "id": "7f61f374",
   "metadata": {},
   "outputs": [
    {
     "data": {
      "text/plain": [
       "(10+14j)"
      ]
     },
     "execution_count": 23,
     "metadata": {},
     "output_type": "execute_result"
    }
   ],
   "source": [
    "n+n"
   ]
  },
  {
   "cell_type": "code",
   "execution_count": 24,
   "id": "0d9b5401",
   "metadata": {},
   "outputs": [
    {
     "data": {
      "text/plain": [
       "0.0"
      ]
     },
     "execution_count": 24,
     "metadata": {},
     "output_type": "execute_result"
    }
   ],
   "source": [
    "0/1"
   ]
  },
  {
   "cell_type": "code",
   "execution_count": 26,
   "id": "6cfc2b8a",
   "metadata": {},
   "outputs": [
    {
     "data": {
      "text/plain": [
       "<function complex.conjugate>"
      ]
     },
     "execution_count": 26,
     "metadata": {},
     "output_type": "execute_result"
    }
   ],
   "source": [
    "n.conjugate"
   ]
  },
  {
   "cell_type": "code",
   "execution_count": 27,
   "id": "cf04b626",
   "metadata": {},
   "outputs": [
    {
     "data": {
      "text/plain": [
       "5.0"
      ]
     },
     "execution_count": 27,
     "metadata": {},
     "output_type": "execute_result"
    }
   ],
   "source": [
    "n.real"
   ]
  },
  {
   "cell_type": "code",
   "execution_count": 28,
   "id": "b243bf12",
   "metadata": {},
   "outputs": [
    {
     "data": {
      "text/plain": [
       "5.0"
      ]
     },
     "execution_count": 28,
     "metadata": {},
     "output_type": "execute_result"
    }
   ],
   "source": [
    "n.real"
   ]
  },
  {
   "cell_type": "code",
   "execution_count": 29,
   "id": "dbb160f4",
   "metadata": {},
   "outputs": [],
   "source": [
    "b=\"this is my first class\""
   ]
  },
  {
   "cell_type": "code",
   "execution_count": 31,
   "id": "aff99443",
   "metadata": {},
   "outputs": [
    {
     "data": {
      "text/plain": [
       "str"
      ]
     },
     "execution_count": 31,
     "metadata": {},
     "output_type": "execute_result"
    }
   ],
   "source": [
    "type(b)"
   ]
  },
  {
   "cell_type": "code",
   "execution_count": 32,
   "id": "7cd6cd64",
   "metadata": {},
   "outputs": [
    {
     "data": {
      "text/plain": [
       "bool"
      ]
     },
     "execution_count": 32,
     "metadata": {},
     "output_type": "execute_result"
    }
   ],
   "source": [
    "bool"
   ]
  },
  {
   "cell_type": "code",
   "execution_count": 33,
   "id": "00450695",
   "metadata": {},
   "outputs": [],
   "source": [
    "l=[4+7j,True,\"Deep\"]"
   ]
  },
  {
   "cell_type": "code",
   "execution_count": 34,
   "id": "b8d45e9e",
   "metadata": {},
   "outputs": [
    {
     "data": {
      "text/plain": [
       "list"
      ]
     },
     "execution_count": 34,
     "metadata": {},
     "output_type": "execute_result"
    }
   ],
   "source": [
    "type(l)"
   ]
  },
  {
   "cell_type": "code",
   "execution_count": 35,
   "id": "73a2855c",
   "metadata": {},
   "outputs": [
    {
     "data": {
      "text/plain": [
       "(4+7j)"
      ]
     },
     "execution_count": 35,
     "metadata": {},
     "output_type": "execute_result"
    }
   ],
   "source": [
    "l[0]"
   ]
  },
  {
   "cell_type": "code",
   "execution_count": 36,
   "id": "420af9af",
   "metadata": {},
   "outputs": [
    {
     "data": {
      "text/plain": [
       "True"
      ]
     },
     "execution_count": 36,
     "metadata": {},
     "output_type": "execute_result"
    }
   ],
   "source": [
    "l[1]"
   ]
  },
  {
   "cell_type": "code",
   "execution_count": 37,
   "id": "5df28d2a",
   "metadata": {},
   "outputs": [
    {
     "data": {
      "text/plain": [
       "'Deep'"
      ]
     },
     "execution_count": 37,
     "metadata": {},
     "output_type": "execute_result"
    }
   ],
   "source": [
    "l[-1]"
   ]
  },
  {
   "cell_type": "code",
   "execution_count": 40,
   "id": "05a194d8",
   "metadata": {},
   "outputs": [],
   "source": [
    "t=(x,44)"
   ]
  },
  {
   "cell_type": "code",
   "execution_count": 41,
   "id": "00369b68",
   "metadata": {},
   "outputs": [
    {
     "data": {
      "text/plain": [
       "tuple"
      ]
     },
     "execution_count": 41,
     "metadata": {},
     "output_type": "execute_result"
    }
   ],
   "source": [
    "type(t)"
   ]
  },
  {
   "cell_type": "code",
   "execution_count": 45,
   "id": "e37f67a7",
   "metadata": {},
   "outputs": [],
   "source": [
    "d={'a':555,\"deep\":444}"
   ]
  },
  {
   "cell_type": "code",
   "execution_count": 46,
   "id": "2c728f8b",
   "metadata": {},
   "outputs": [
    {
     "data": {
      "text/plain": [
       "dict"
      ]
     },
     "execution_count": 46,
     "metadata": {},
     "output_type": "execute_result"
    }
   ],
   "source": [
    "type(d)"
   ]
  },
  {
   "cell_type": "code",
   "execution_count": 50,
   "id": "c388550d",
   "metadata": {},
   "outputs": [],
   "source": [
    "d={45}"
   ]
  },
  {
   "cell_type": "code",
   "execution_count": 51,
   "id": "b71a36a9",
   "metadata": {},
   "outputs": [
    {
     "data": {
      "text/plain": [
       "set"
      ]
     },
     "execution_count": 51,
     "metadata": {},
     "output_type": "execute_result"
    }
   ],
   "source": [
    "type(d)"
   ]
  },
  {
   "cell_type": "code",
   "execution_count": null,
   "id": "f1e7b7c8",
   "metadata": {},
   "outputs": [],
   "source": []
  }
 ],
 "metadata": {
  "kernelspec": {
   "display_name": "Python 3 (ipykernel)",
   "language": "python",
   "name": "python3"
  },
  "language_info": {
   "codemirror_mode": {
    "name": "ipython",
    "version": 3
   },
   "file_extension": ".py",
   "mimetype": "text/x-python",
   "name": "python",
   "nbconvert_exporter": "python",
   "pygments_lexer": "ipython3",
   "version": "3.9.12"
  }
 },
 "nbformat": 4,
 "nbformat_minor": 5
}
